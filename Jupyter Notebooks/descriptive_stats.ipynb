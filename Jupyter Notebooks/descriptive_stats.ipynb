{
 "cells": [
  {
   "cell_type": "code",
   "execution_count": 1,
   "metadata": {},
   "outputs": [],
   "source": [
    "import pandas as pd\n",
    "import matplotlib.pyplot as plt\n",
    "import seaborn as sns\n",
    "from scipy.stats import f_oneway, chi2_contingency\n",
    "\n",
    "palette = sns.color_palette(\"Set2\", 8)\n",
    "\n",
    "sns.set_palette(palette)"
   ]
  },
  {
   "cell_type": "code",
   "execution_count": 2,
   "metadata": {},
   "outputs": [],
   "source": [
    "data = pd.read_table(\"../SGB985_metadata.tsv\")"
   ]
  },
  {
   "cell_type": "code",
   "execution_count": 3,
   "metadata": {},
   "outputs": [
    {
     "data": {
      "text/html": [
       "<div>\n",
       "<style scoped>\n",
       "    .dataframe tbody tr th:only-of-type {\n",
       "        vertical-align: middle;\n",
       "    }\n",
       "\n",
       "    .dataframe tbody tr th {\n",
       "        vertical-align: top;\n",
       "    }\n",
       "\n",
       "    .dataframe thead th {\n",
       "        text-align: right;\n",
       "    }\n",
       "</style>\n",
       "<table border=\"1\" class=\"dataframe\">\n",
       "  <thead>\n",
       "    <tr style=\"text-align: right;\">\n",
       "      <th></th>\n",
       "      <th>bmi</th>\n",
       "      <th>age</th>\n",
       "    </tr>\n",
       "  </thead>\n",
       "  <tbody>\n",
       "    <tr>\n",
       "      <th>count</th>\n",
       "      <td>28.000000</td>\n",
       "      <td>30.000000</td>\n",
       "    </tr>\n",
       "    <tr>\n",
       "      <th>mean</th>\n",
       "      <td>23.138217</td>\n",
       "      <td>65.033333</td>\n",
       "    </tr>\n",
       "    <tr>\n",
       "      <th>std</th>\n",
       "      <td>3.099085</td>\n",
       "      <td>10.819788</td>\n",
       "    </tr>\n",
       "    <tr>\n",
       "      <th>min</th>\n",
       "      <td>15.916955</td>\n",
       "      <td>44.000000</td>\n",
       "    </tr>\n",
       "    <tr>\n",
       "      <th>25%</th>\n",
       "      <td>20.388889</td>\n",
       "      <td>59.000000</td>\n",
       "    </tr>\n",
       "    <tr>\n",
       "      <th>50%</th>\n",
       "      <td>23.356500</td>\n",
       "      <td>62.500000</td>\n",
       "    </tr>\n",
       "    <tr>\n",
       "      <th>75%</th>\n",
       "      <td>25.840130</td>\n",
       "      <td>74.750000</td>\n",
       "    </tr>\n",
       "    <tr>\n",
       "      <th>max</th>\n",
       "      <td>27.548209</td>\n",
       "      <td>87.000000</td>\n",
       "    </tr>\n",
       "  </tbody>\n",
       "</table>\n",
       "</div>"
      ],
      "text/plain": [
       "             bmi        age\n",
       "count  28.000000  30.000000\n",
       "mean   23.138217  65.033333\n",
       "std     3.099085  10.819788\n",
       "min    15.916955  44.000000\n",
       "25%    20.388889  59.000000\n",
       "50%    23.356500  62.500000\n",
       "75%    25.840130  74.750000\n",
       "max    27.548209  87.000000"
      ]
     },
     "execution_count": 3,
     "metadata": {},
     "output_type": "execute_result"
    }
   ],
   "source": [
    "summary_statistics = data.describe()\n",
    "summary_statistics"
   ]
  },
  {
   "cell_type": "code",
   "execution_count": 9,
   "metadata": {},
   "outputs": [
    {
     "data": {
      "text/plain": [
       "(sex\n",
       " female    16\n",
       " male      14\n",
       " Name: count, dtype: int64,\n",
       " smoking_state\n",
       " non-smoker    17\n",
       " ex-smoker      7\n",
       " smoker         6\n",
       " Name: count, dtype: int64,\n",
       " study_group\n",
       " mucositis          13\n",
       " periimplantitis    12\n",
       " healthy             5\n",
       " Name: count, dtype: int64)"
      ]
     },
     "execution_count": 9,
     "metadata": {},
     "output_type": "execute_result"
    }
   ],
   "source": [
    "sex_distribution = data['sex'].value_counts()\n",
    "smoking_distribution = data['smoking_state'].value_counts()\n",
    "study_group_distribution = data['study_group'].value_counts()\n",
    "\n",
    "sex_distribution, smoking_distribution, study_group_distribution"
   ]
  },
  {
   "cell_type": "code",
   "execution_count": 10,
   "metadata": {},
   "outputs": [
    {
     "data": {
      "text/plain": [
       "(study_group\n",
       " healthy            23.987630\n",
       " mucositis          23.160377\n",
       " periimplantitis    22.684701\n",
       " Name: bmi, dtype: float64,\n",
       " study_group\n",
       " healthy            57.800000\n",
       " mucositis          64.000000\n",
       " periimplantitis    69.166667\n",
       " Name: age, dtype: float64)"
      ]
     },
     "execution_count": 10,
     "metadata": {},
     "output_type": "execute_result"
    }
   ],
   "source": [
    "# Exploring the relationship between BMI and age with the study group.\n",
    "bmi_study_group = data.groupby('study_group')['bmi'].mean()\n",
    "age_study_group = data.groupby('study_group')['age'].mean()\n",
    "bmi_study_group, age_study_group"
   ]
  },
  {
   "cell_type": "code",
   "execution_count": 11,
   "metadata": {},
   "outputs": [
    {
     "data": {
      "text/html": [
       "<div>\n",
       "<style scoped>\n",
       "    .dataframe tbody tr th:only-of-type {\n",
       "        vertical-align: middle;\n",
       "    }\n",
       "\n",
       "    .dataframe tbody tr th {\n",
       "        vertical-align: top;\n",
       "    }\n",
       "\n",
       "    .dataframe thead th {\n",
       "        text-align: right;\n",
       "    }\n",
       "</style>\n",
       "<table border=\"1\" class=\"dataframe\">\n",
       "  <thead>\n",
       "    <tr style=\"text-align: right;\">\n",
       "      <th>smoking_state</th>\n",
       "      <th>ex-smoker</th>\n",
       "      <th>non-smoker</th>\n",
       "      <th>smoker</th>\n",
       "    </tr>\n",
       "    <tr>\n",
       "      <th>study_group</th>\n",
       "      <th></th>\n",
       "      <th></th>\n",
       "      <th></th>\n",
       "    </tr>\n",
       "  </thead>\n",
       "  <tbody>\n",
       "    <tr>\n",
       "      <th>healthy</th>\n",
       "      <td>2</td>\n",
       "      <td>2</td>\n",
       "      <td>1</td>\n",
       "    </tr>\n",
       "    <tr>\n",
       "      <th>mucositis</th>\n",
       "      <td>2</td>\n",
       "      <td>7</td>\n",
       "      <td>4</td>\n",
       "    </tr>\n",
       "    <tr>\n",
       "      <th>periimplantitis</th>\n",
       "      <td>3</td>\n",
       "      <td>8</td>\n",
       "      <td>1</td>\n",
       "    </tr>\n",
       "  </tbody>\n",
       "</table>\n",
       "</div>"
      ],
      "text/plain": [
       "smoking_state    ex-smoker  non-smoker  smoker\n",
       "study_group                                   \n",
       "healthy                  2           2       1\n",
       "mucositis                2           7       4\n",
       "periimplantitis          3           8       1"
      ]
     },
     "execution_count": 11,
     "metadata": {},
     "output_type": "execute_result"
    }
   ],
   "source": [
    "# Exploring the relationship between smoking state and study group.\n",
    "smoking_study_group = pd.crosstab(data['study_group'], data['smoking_state'])\n",
    "smoking_study_group"
   ]
  },
  {
   "cell_type": "code",
   "execution_count": 12,
   "metadata": {},
   "outputs": [
    {
     "data": {
      "text/html": [
       "<div>\n",
       "<style scoped>\n",
       "    .dataframe tbody tr th:only-of-type {\n",
       "        vertical-align: middle;\n",
       "    }\n",
       "\n",
       "    .dataframe tbody tr th {\n",
       "        vertical-align: top;\n",
       "    }\n",
       "\n",
       "    .dataframe thead th {\n",
       "        text-align: right;\n",
       "    }\n",
       "</style>\n",
       "<table border=\"1\" class=\"dataframe\">\n",
       "  <thead>\n",
       "    <tr style=\"text-align: right;\">\n",
       "      <th></th>\n",
       "      <th>bmi</th>\n",
       "      <th>age</th>\n",
       "    </tr>\n",
       "    <tr>\n",
       "      <th>smoking_state</th>\n",
       "      <th></th>\n",
       "      <th></th>\n",
       "    </tr>\n",
       "  </thead>\n",
       "  <tbody>\n",
       "    <tr>\n",
       "      <th>ex-smoker</th>\n",
       "      <td>23.453274</td>\n",
       "      <td>64.571429</td>\n",
       "    </tr>\n",
       "    <tr>\n",
       "      <th>non-smoker</th>\n",
       "      <td>22.762615</td>\n",
       "      <td>66.411765</td>\n",
       "    </tr>\n",
       "    <tr>\n",
       "      <th>smoker</th>\n",
       "      <td>23.899059</td>\n",
       "      <td>61.666667</td>\n",
       "    </tr>\n",
       "  </tbody>\n",
       "</table>\n",
       "</div>"
      ],
      "text/plain": [
       "                     bmi        age\n",
       "smoking_state                      \n",
       "ex-smoker      23.453274  64.571429\n",
       "non-smoker     22.762615  66.411765\n",
       "smoker         23.899059  61.666667"
      ]
     },
     "execution_count": 12,
     "metadata": {},
     "output_type": "execute_result"
    }
   ],
   "source": [
    "# Checking for any subtle patterns such as the relationship between BMI, age, and smoking state.\n",
    "bmi_smoking_age = data.groupby('smoking_state').agg({'bmi':'mean', 'age':'mean'})\n",
    "bmi_smoking_age"
   ]
  },
  {
   "attachments": {},
   "cell_type": "markdown",
   "metadata": {},
   "source": [
    "- The 'healthy' group has a higher mean BMI but a lower average age compared to the 'mucositis' and 'periimplantitis' groups.\n",
    "- Periimplantitis is more prevalent in older age groups, while the healthy individuals are on average younger.\n",
    "- There is no clear pattern of smoking status dominating any particular study group, but non-smokers are the largest group across all study conditions."
   ]
  },
  {
   "attachments": {},
   "cell_type": "markdown",
   "metadata": {},
   "source": [
    "### Statistical Significance "
   ]
  },
  {
   "cell_type": "code",
   "execution_count": 16,
   "metadata": {},
   "outputs": [
    {
     "data": {
      "text/plain": [
       "(F_onewayResult(statistic=0.27945708774071076, pvalue=0.758525372952418),\n",
       " F_onewayResult(statistic=2.22570739071757, pvalue=0.1274290083603407),\n",
       " Chi2ContingencyResult(statistic=3.0071644042232273, pvalue=0.5566271710383818, dof=4, expected_freq=array([[1.16666667, 2.83333333, 1.        ],\n",
       "        [3.03333333, 7.36666667, 2.6       ],\n",
       "        [2.8       , 6.8       , 2.4       ]])))"
      ]
     },
     "execution_count": 16,
     "metadata": {},
     "output_type": "execute_result"
    }
   ],
   "source": [
    "bmi_periimplantitis = data[data['study_group'] == 'periimplantitis']['bmi'].dropna()\n",
    "bmi_mucositis = data[data['study_group'] == 'mucositis']['bmi'].dropna()\n",
    "bmi_healthy = data[data['study_group'] == 'healthy']['bmi'].dropna()\n",
    "\n",
    "# Perform ANOVA test for BMI\n",
    "anova_results_bmi = f_oneway(bmi_periimplantitis, bmi_mucositis, bmi_healthy)\n",
    "\n",
    "# Exclude missing values for age and perform ANOVA\n",
    "age_periimplantitis = data[data['study_group'] == 'periimplantitis']['age'].dropna()\n",
    "age_mucositis = data[data['study_group'] == 'mucositis']['age'].dropna()\n",
    "age_healthy = data[data['study_group'] == 'healthy']['age'].dropna()\n",
    "\n",
    "# Perform ANOVA test for age\n",
    "anova_results_age = f_oneway(age_periimplantitis, age_mucositis, age_healthy)\n",
    "\n",
    "# For the Chi-squared test, ensure the contingency table does not include any rows or columns with a sum of 0, which might happen after removing NaNs\n",
    "# Contingency table of smoking state and study group\n",
    "contingency_table = pd.crosstab(data['study_group'], data['smoking_state']).replace(0, np.nan).dropna(axis='index', how='all').dropna(axis='columns', how='all').fillna(0)\n",
    "\n",
    "# Perform Chi-squared test\n",
    "chi2_results = chi2_contingency(contingency_table)\n",
    "\n",
    "(anova_results_bmi, anova_results_age, chi2_results)"
   ]
  },
  {
   "cell_type": "code",
   "execution_count": 17,
   "metadata": {},
   "outputs": [
    {
     "data": {
      "image/png": "[encoded data removed]",
      "text/plain": [
       "<Figure size 1000x1200 with 2 Axes>"
      ]
     },
     "metadata": {},
     "output_type": "display_data"
    },
    {
     "data": {
      "image/png": "[encoded data removed]",
      "text/plain": [
       "<Figure size 1000x600 with 1 Axes>"
      ]
     },
     "metadata": {},
     "output_type": "display_data"
    }
   ],
   "source": [
    "sns.set_style(\"whitegrid\")\n",
    "\n",
    "# Create a figure for the plots\n",
    "fig, axes = plt.subplots(2, 1, figsize=(10, 12))\n",
    "\n",
    "# Boxplot for BMI by study group\n",
    "sns.boxplot(x='study_group', y='bmi', data=data, ax=axes[0])\n",
    "axes[0].set_title('BMI Distribution by Study Group')\n",
    "axes[0].set_xlabel('Study Group')\n",
    "axes[0].set_ylabel('BMI')\n",
    "\n",
    "# Boxplot for Age by study group\n",
    "sns.boxplot(x='study_group', y='age', data=data, ax=axes[1])\n",
    "axes[1].set_title('Age Distribution by Study Group')\n",
    "axes[1].set_xlabel('Study Group')\n",
    "axes[1].set_ylabel('Age')\n",
    "\n",
    "plt.tight_layout()\n",
    "\n",
    "# Show plots\n",
    "plt.show()\n",
    "\n",
    "# For smoking state, since it's categorical, a count plot will be more informative.\n",
    "plt.figure(figsize=(10, 6))\n",
    "sns.countplot(x='study_group', hue='smoking_state', data=data)\n",
    "plt.title('Smoking State Distribution by Study Group')\n",
    "plt.xlabel('Study Group')\n",
    "plt.ylabel('Count')\n",
    "plt.legend(title='Smoking State')\n",
    "\n",
    "plt.show()"
   ]
  },
  {
   "attachments": {},
   "cell_type": "markdown",
   "metadata": {},
   "source": [
    "There is no significant correlation in our dataset but some studies show that\n",
    "\n",
    "low BMI is correlated with mucositis \n",
    "obesity is with...\n",
    "\n",
    "(Here mention literature, our findings and potential reasons)"
   ]
  },
  {
   "attachments": {},
   "cell_type": "markdown",
   "metadata": {},
   "source": [
    "TODO: Add labels and consistency to charts / maybe also add p-values to \n",
    "\n",
    "maybe do it in R\n",
    "\n",
    "http://www.sthda.com/english/articles/24-ggpubr-publication-ready-plots/76-add-p-values-and-significance-levels-to-ggplots/"
   ]
  }
 ],
 "metadata": {
  "kernelspec": {
   "display_name": "credit_risk_11",
   "language": "python",
   "name": "credit_risk_11"
  },
  "language_info": {
   "codemirror_mode": {
    "name": "ipython",
    "version": 3
   },
   "file_extension": ".py",
   "mimetype": "text/x-python",
   "name": "python",
   "nbconvert_exporter": "python",
   "pygments_lexer": "ipython3",
   "version": "3.11.8"
  },
  "orig_nbformat": 4
 },
 "nbformat": 4,
 "nbformat_minor": 2
}
