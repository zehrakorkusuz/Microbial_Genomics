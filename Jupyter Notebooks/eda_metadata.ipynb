{
 "cells": [
  {
   "cell_type": "code",
   "execution_count": 2,
   "metadata": {},
   "outputs": [],
   "source": [
    "import pandas as pd\n",
    "import matplotlib.pyplot as plt\n",
    "import seaborn as sns\n",
    "\n",
    "palette = sns.color_palette(\"Set2\", 8)\n",
    "\n",
    "sns.set_palette(palette)"
   ]
  },
  {
   "cell_type": "code",
   "execution_count": 4,
   "metadata": {},
   "outputs": [],
   "source": [
    "metadata = pd.read_table(\"../SGB985_metadata.tsv\")"
   ]
  },
  {
   "cell_type": "code",
   "execution_count": 5,
   "metadata": {},
   "outputs": [
    {
     "data": {
      "text/html": [
       "<div>\n",
       "<style scoped>\n",
       "    .dataframe tbody tr th:only-of-type {\n",
       "        vertical-align: middle;\n",
       "    }\n",
       "\n",
       "    .dataframe tbody tr th {\n",
       "        vertical-align: top;\n",
       "    }\n",
       "\n",
       "    .dataframe thead th {\n",
       "        text-align: right;\n",
       "    }\n",
       "</style>\n",
       "<table border=\"1\" class=\"dataframe\">\n",
       "  <thead>\n",
       "    <tr style=\"text-align: right;\">\n",
       "      <th></th>\n",
       "      <th>magID</th>\n",
       "      <th>sampleID</th>\n",
       "      <th>sex</th>\n",
       "      <th>bmi</th>\n",
       "      <th>age</th>\n",
       "      <th>smoking_state</th>\n",
       "      <th>study_group</th>\n",
       "    </tr>\n",
       "  </thead>\n",
       "  <tbody>\n",
       "    <tr>\n",
       "      <th>0</th>\n",
       "      <td>M1746978659</td>\n",
       "      <td>BP01006</td>\n",
       "      <td>female</td>\n",
       "      <td>19.531250</td>\n",
       "      <td>87</td>\n",
       "      <td>non-smoker</td>\n",
       "      <td>periimplantitis</td>\n",
       "    </tr>\n",
       "    <tr>\n",
       "      <th>1</th>\n",
       "      <td>M1008403048</td>\n",
       "      <td>BP01048</td>\n",
       "      <td>female</td>\n",
       "      <td>22.491349</td>\n",
       "      <td>63</td>\n",
       "      <td>smoker</td>\n",
       "      <td>mucositis</td>\n",
       "    </tr>\n",
       "    <tr>\n",
       "      <th>2</th>\n",
       "      <td>M1717522652</td>\n",
       "      <td>BP01053</td>\n",
       "      <td>male</td>\n",
       "      <td>22.491349</td>\n",
       "      <td>70</td>\n",
       "      <td>ex-smoker</td>\n",
       "      <td>mucositis</td>\n",
       "    </tr>\n",
       "    <tr>\n",
       "      <th>3</th>\n",
       "      <td>M1524943176</td>\n",
       "      <td>BP01095</td>\n",
       "      <td>female</td>\n",
       "      <td>19.531250</td>\n",
       "      <td>63</td>\n",
       "      <td>non-smoker</td>\n",
       "      <td>periimplantitis</td>\n",
       "    </tr>\n",
       "    <tr>\n",
       "      <th>4</th>\n",
       "      <td>M1283945741</td>\n",
       "      <td>BP02019</td>\n",
       "      <td>female</td>\n",
       "      <td>25.711662</td>\n",
       "      <td>77</td>\n",
       "      <td>smoker</td>\n",
       "      <td>mucositis</td>\n",
       "    </tr>\n",
       "  </tbody>\n",
       "</table>\n",
       "</div>"
      ],
      "text/plain": [
       "         magID sampleID     sex        bmi  age smoking_state      study_group\n",
       "0  M1746978659  BP01006  female  19.531250   87    non-smoker  periimplantitis\n",
       "1  M1008403048  BP01048  female  22.491349   63        smoker        mucositis\n",
       "2  M1717522652  BP01053    male  22.491349   70     ex-smoker        mucositis\n",
       "3  M1524943176  BP01095  female  19.531250   63    non-smoker  periimplantitis\n",
       "4  M1283945741  BP02019  female  25.711662   77        smoker        mucositis"
      ]
     },
     "execution_count": 5,
     "metadata": {},
     "output_type": "execute_result"
    }
   ],
   "source": [
    "metadata.head(5)"
   ]
  },
  {
   "cell_type": "code",
   "execution_count": 6,
   "metadata": {},
   "outputs": [
    {
     "data": {
      "text/plain": [
       "study_group\n",
       "mucositis          13\n",
       "periimplantitis    12\n",
       "healthy             5\n",
       "Name: count, dtype: int64"
      ]
     },
     "execution_count": 6,
     "metadata": {},
     "output_type": "execute_result"
    }
   ],
   "source": [
    "metadata[\"study_group\"].value_counts()"
   ]
  },
  {
   "cell_type": "code",
   "execution_count": 34,
   "metadata": {},
   "outputs": [
    {
     "data": {
      "text/plain": [
       "count    30.000000\n",
       "mean     65.033333\n",
       "std      10.819788\n",
       "min      44.000000\n",
       "25%      59.000000\n",
       "50%      62.500000\n",
       "75%      74.750000\n",
       "max      87.000000\n",
       "Name: age, dtype: float64"
      ]
     },
     "execution_count": 34,
     "metadata": {},
     "output_type": "execute_result"
    }
   ],
   "source": [
    "metadata[\"age\"].describe()"
   ]
  },
  {
   "cell_type": "code",
   "execution_count": 15,
   "metadata": {},
   "outputs": [],
   "source": [
    "# https://www.researchgate.net/figure/Distribution-of-dental-implants-according-to-age-groups-and-gender_fig1_358639142\n",
    "\n",
    "metadata['Age_Bin'] = pd.cut(metadata['age'], bins=[17, 30, 40, 50, 60, 70, 80, 90], labels=['18-30', '31-40', '41-50', '51-60', '61-70', '71-80', '81-90'])"
   ]
  },
  {
   "cell_type": "code",
   "execution_count": 10,
   "metadata": {},
   "outputs": [
    {
     "data": {
      "text/plain": [
       "<Axes: xlabel='study_group', ylabel='count'>"
      ]
     },
     "execution_count": 10,
     "metadata": {},
     "output_type": "execute_result"
    },
    {
     "data": {
      "image/png": "[encoded data removed]",
      "text/plain": [
       "<Figure size 640x480 with 1 Axes>"
      ]
     },
     "metadata": {},
     "output_type": "display_data"
    }
   ],
   "source": [
    "sns.countplot(data=metadata, x=\"study_group\")"
   ]
  },
  {
   "cell_type": "code",
   "execution_count": 12,
   "metadata": {},
   "outputs": [
    {
     "data": {
      "text/plain": [
       "<Axes: xlabel='count', ylabel='smoking_state'>"
      ]
     },
     "execution_count": 12,
     "metadata": {},
     "output_type": "execute_result"
    },
    {
     "data": {
      "image/png": "[encoded data removed]",
      "text/plain": [
       "<Figure size 640x480 with 1 Axes>"
      ]
     },
     "metadata": {},
     "output_type": "display_data"
    }
   ],
   "source": [
    "sns.countplot(metadata[\"smoking_state\"])"
   ]
  },
  {
   "cell_type": "code",
   "execution_count": 16,
   "metadata": {},
   "outputs": [
    {
     "data": {
      "text/plain": [
       "<Axes: xlabel='count', ylabel='Age_Bin'>"
      ]
     },
     "execution_count": 16,
     "metadata": {},
     "output_type": "execute_result"
    },
    {
     "data": {
      "image/png": "[encoded data removed]",
      "text/plain": [
       "<Figure size 640x480 with 1 Axes>"
      ]
     },
     "metadata": {},
     "output_type": "display_data"
    }
   ],
   "source": [
    "sns.countplot(metadata[\"Age_Bin\"])"
   ]
  },
  {
   "cell_type": "code",
   "execution_count": 17,
   "metadata": {},
   "outputs": [
    {
     "data": {
      "text/plain": [
       "<Axes: xlabel='age', ylabel='Count'>"
      ]
     },
     "execution_count": 17,
     "metadata": {},
     "output_type": "execute_result"
    },
    {
     "data": {
      "image/png": "[encoded data removed]",
      "text/plain": [
       "<Figure size 640x480 with 1 Axes>"
      ]
     },
     "metadata": {},
     "output_type": "display_data"
    }
   ],
   "source": [
    "sns.histplot(metadata[\"age\"])"
   ]
  },
  {
   "cell_type": "code",
   "execution_count": 97,
   "metadata": {},
   "outputs": [
    {
     "name": "stdout",
     "output_type": "stream",
     "text": [
      "Shapiro-Wilk test p-value: 0.49136035433197106\n"
     ]
    }
   ],
   "source": [
    "import scipy.stats as stats\n",
    "shapiro_test = stats.shapiro(metadata['age'])\n",
    "print(\"Shapiro-Wilk test p-value:\", shapiro_test.pvalue)"
   ]
  },
  {
   "cell_type": "code",
   "execution_count": 102,
   "metadata": {},
   "outputs": [
    {
     "data": {
      "text/html": [
       "<div>\n",
       "<style scoped>\n",
       "    .dataframe tbody tr th:only-of-type {\n",
       "        vertical-align: middle;\n",
       "    }\n",
       "\n",
       "    .dataframe tbody tr th {\n",
       "        vertical-align: top;\n",
       "    }\n",
       "\n",
       "    .dataframe thead th {\n",
       "        text-align: right;\n",
       "    }\n",
       "</style>\n",
       "<table border=\"1\" class=\"dataframe\">\n",
       "  <thead>\n",
       "    <tr style=\"text-align: right;\">\n",
       "      <th></th>\n",
       "      <th>magID</th>\n",
       "      <th>sampleID</th>\n",
       "      <th>sex</th>\n",
       "      <th>bmi</th>\n",
       "      <th>age</th>\n",
       "      <th>smoking_state</th>\n",
       "      <th>study_group</th>\n",
       "      <th>Age_Bin</th>\n",
       "      <th>health_status</th>\n",
       "      <th>smoking_history</th>\n",
       "      <th>disease_stage</th>\n",
       "    </tr>\n",
       "  </thead>\n",
       "  <tbody>\n",
       "    <tr>\n",
       "      <th>0</th>\n",
       "      <td>M1746978659</td>\n",
       "      <td>BP01006</td>\n",
       "      <td>female</td>\n",
       "      <td>19.531250</td>\n",
       "      <td>87</td>\n",
       "      <td>non-smoker</td>\n",
       "      <td>periimplantitis</td>\n",
       "      <td>81-90</td>\n",
       "      <td>Unhealthy</td>\n",
       "      <td>No</td>\n",
       "      <td>periimplantitis</td>\n",
       "    </tr>\n",
       "    <tr>\n",
       "      <th>1</th>\n",
       "      <td>M1008403048</td>\n",
       "      <td>BP01048</td>\n",
       "      <td>female</td>\n",
       "      <td>22.491349</td>\n",
       "      <td>63</td>\n",
       "      <td>smoker</td>\n",
       "      <td>mucositis</td>\n",
       "      <td>61-70</td>\n",
       "      <td>Unhealthy</td>\n",
       "      <td>Yes</td>\n",
       "      <td>mucositis</td>\n",
       "    </tr>\n",
       "    <tr>\n",
       "      <th>2</th>\n",
       "      <td>M1717522652</td>\n",
       "      <td>BP01053</td>\n",
       "      <td>male</td>\n",
       "      <td>22.491349</td>\n",
       "      <td>70</td>\n",
       "      <td>ex-smoker</td>\n",
       "      <td>mucositis</td>\n",
       "      <td>61-70</td>\n",
       "      <td>Unhealthy</td>\n",
       "      <td>Yes</td>\n",
       "      <td>mucositis</td>\n",
       "    </tr>\n",
       "    <tr>\n",
       "      <th>3</th>\n",
       "      <td>M1524943176</td>\n",
       "      <td>BP01095</td>\n",
       "      <td>female</td>\n",
       "      <td>19.531250</td>\n",
       "      <td>63</td>\n",
       "      <td>non-smoker</td>\n",
       "      <td>periimplantitis</td>\n",
       "      <td>61-70</td>\n",
       "      <td>Unhealthy</td>\n",
       "      <td>No</td>\n",
       "      <td>periimplantitis</td>\n",
       "    </tr>\n",
       "    <tr>\n",
       "      <th>4</th>\n",
       "      <td>M1283945741</td>\n",
       "      <td>BP02019</td>\n",
       "      <td>female</td>\n",
       "      <td>25.711662</td>\n",
       "      <td>77</td>\n",
       "      <td>smoker</td>\n",
       "      <td>mucositis</td>\n",
       "      <td>71-80</td>\n",
       "      <td>Unhealthy</td>\n",
       "      <td>Yes</td>\n",
       "      <td>mucositis</td>\n",
       "    </tr>\n",
       "    <tr>\n",
       "      <th>5</th>\n",
       "      <td>M1110726505</td>\n",
       "      <td>BP02051</td>\n",
       "      <td>male</td>\n",
       "      <td>26.514482</td>\n",
       "      <td>58</td>\n",
       "      <td>non-smoker</td>\n",
       "      <td>mucositis</td>\n",
       "      <td>51-60</td>\n",
       "      <td>Unhealthy</td>\n",
       "      <td>No</td>\n",
       "      <td>mucositis</td>\n",
       "    </tr>\n",
       "    <tr>\n",
       "      <th>6</th>\n",
       "      <td>M1791475261</td>\n",
       "      <td>BP02056</td>\n",
       "      <td>female</td>\n",
       "      <td>15.916955</td>\n",
       "      <td>55</td>\n",
       "      <td>non-smoker</td>\n",
       "      <td>mucositis</td>\n",
       "      <td>51-60</td>\n",
       "      <td>Unhealthy</td>\n",
       "      <td>No</td>\n",
       "      <td>mucositis</td>\n",
       "    </tr>\n",
       "    <tr>\n",
       "      <th>7</th>\n",
       "      <td>M1004846097</td>\n",
       "      <td>BP03027</td>\n",
       "      <td>female</td>\n",
       "      <td>24.910767</td>\n",
       "      <td>75</td>\n",
       "      <td>non-smoker</td>\n",
       "      <td>mucositis</td>\n",
       "      <td>71-80</td>\n",
       "      <td>Unhealthy</td>\n",
       "      <td>No</td>\n",
       "      <td>mucositis</td>\n",
       "    </tr>\n",
       "    <tr>\n",
       "      <th>8</th>\n",
       "      <td>M1649332925</td>\n",
       "      <td>BP05003</td>\n",
       "      <td>male</td>\n",
       "      <td>18.991965</td>\n",
       "      <td>62</td>\n",
       "      <td>non-smoker</td>\n",
       "      <td>mucositis</td>\n",
       "      <td>61-70</td>\n",
       "      <td>Unhealthy</td>\n",
       "      <td>No</td>\n",
       "      <td>mucositis</td>\n",
       "    </tr>\n",
       "    <tr>\n",
       "      <th>9</th>\n",
       "      <td>M1875601697</td>\n",
       "      <td>BP05004</td>\n",
       "      <td>male</td>\n",
       "      <td>22.038401</td>\n",
       "      <td>61</td>\n",
       "      <td>non-smoker</td>\n",
       "      <td>periimplantitis</td>\n",
       "      <td>61-70</td>\n",
       "      <td>Unhealthy</td>\n",
       "      <td>No</td>\n",
       "      <td>periimplantitis</td>\n",
       "    </tr>\n",
       "    <tr>\n",
       "      <th>10</th>\n",
       "      <td>M1341908534</td>\n",
       "      <td>BP05009</td>\n",
       "      <td>female</td>\n",
       "      <td>24.221453</td>\n",
       "      <td>62</td>\n",
       "      <td>smoker</td>\n",
       "      <td>healthy</td>\n",
       "      <td>61-70</td>\n",
       "      <td>Healthy</td>\n",
       "      <td>Yes</td>\n",
       "      <td>None</td>\n",
       "    </tr>\n",
       "    <tr>\n",
       "      <th>11</th>\n",
       "      <td>M1622504425</td>\n",
       "      <td>BP07009</td>\n",
       "      <td>female</td>\n",
       "      <td>23.588329</td>\n",
       "      <td>54</td>\n",
       "      <td>non-smoker</td>\n",
       "      <td>healthy</td>\n",
       "      <td>51-60</td>\n",
       "      <td>Healthy</td>\n",
       "      <td>No</td>\n",
       "      <td>None</td>\n",
       "    </tr>\n",
       "    <tr>\n",
       "      <th>12</th>\n",
       "      <td>M1094258468</td>\n",
       "      <td>BP07029</td>\n",
       "      <td>female</td>\n",
       "      <td>19.777699</td>\n",
       "      <td>67</td>\n",
       "      <td>smoker</td>\n",
       "      <td>mucositis</td>\n",
       "      <td>61-70</td>\n",
       "      <td>Unhealthy</td>\n",
       "      <td>Yes</td>\n",
       "      <td>mucositis</td>\n",
       "    </tr>\n",
       "    <tr>\n",
       "      <th>13</th>\n",
       "      <td>M1989389750</td>\n",
       "      <td>BP07037</td>\n",
       "      <td>female</td>\n",
       "      <td>23.124670</td>\n",
       "      <td>62</td>\n",
       "      <td>ex-smoker</td>\n",
       "      <td>periimplantitis</td>\n",
       "      <td>61-70</td>\n",
       "      <td>Unhealthy</td>\n",
       "      <td>Yes</td>\n",
       "      <td>periimplantitis</td>\n",
       "    </tr>\n",
       "    <tr>\n",
       "      <th>14</th>\n",
       "      <td>M1543411560</td>\n",
       "      <td>BP07053</td>\n",
       "      <td>male</td>\n",
       "      <td>26.149277</td>\n",
       "      <td>78</td>\n",
       "      <td>non-smoker</td>\n",
       "      <td>periimplantitis</td>\n",
       "      <td>71-80</td>\n",
       "      <td>Unhealthy</td>\n",
       "      <td>No</td>\n",
       "      <td>periimplantitis</td>\n",
       "    </tr>\n",
       "    <tr>\n",
       "      <th>15</th>\n",
       "      <td>M1506432639</td>\n",
       "      <td>BP09021</td>\n",
       "      <td>female</td>\n",
       "      <td>22.213678</td>\n",
       "      <td>76</td>\n",
       "      <td>non-smoker</td>\n",
       "      <td>periimplantitis</td>\n",
       "      <td>71-80</td>\n",
       "      <td>Unhealthy</td>\n",
       "      <td>No</td>\n",
       "      <td>periimplantitis</td>\n",
       "    </tr>\n",
       "    <tr>\n",
       "      <th>16</th>\n",
       "      <td>M1473762895</td>\n",
       "      <td>BP09025</td>\n",
       "      <td>male</td>\n",
       "      <td>27.293133</td>\n",
       "      <td>46</td>\n",
       "      <td>smoker</td>\n",
       "      <td>mucositis</td>\n",
       "      <td>41-50</td>\n",
       "      <td>Unhealthy</td>\n",
       "      <td>Yes</td>\n",
       "      <td>mucositis</td>\n",
       "    </tr>\n",
       "    <tr>\n",
       "      <th>17</th>\n",
       "      <td>M1211523609</td>\n",
       "      <td>BP12052</td>\n",
       "      <td>female</td>\n",
       "      <td>26.297578</td>\n",
       "      <td>64</td>\n",
       "      <td>non-smoker</td>\n",
       "      <td>periimplantitis</td>\n",
       "      <td>61-70</td>\n",
       "      <td>Unhealthy</td>\n",
       "      <td>No</td>\n",
       "      <td>periimplantitis</td>\n",
       "    </tr>\n",
       "    <tr>\n",
       "      <th>18</th>\n",
       "      <td>M1509316652</td>\n",
       "      <td>BP13015</td>\n",
       "      <td>female</td>\n",
       "      <td>19.841270</td>\n",
       "      <td>74</td>\n",
       "      <td>non-smoker</td>\n",
       "      <td>periimplantitis</td>\n",
       "      <td>71-80</td>\n",
       "      <td>Unhealthy</td>\n",
       "      <td>No</td>\n",
       "      <td>periimplantitis</td>\n",
       "    </tr>\n",
       "    <tr>\n",
       "      <th>19</th>\n",
       "      <td>M1902694554</td>\n",
       "      <td>BP13017</td>\n",
       "      <td>male</td>\n",
       "      <td>20.571429</td>\n",
       "      <td>61</td>\n",
       "      <td>ex-smoker</td>\n",
       "      <td>periimplantitis</td>\n",
       "      <td>61-70</td>\n",
       "      <td>Unhealthy</td>\n",
       "      <td>Yes</td>\n",
       "      <td>periimplantitis</td>\n",
       "    </tr>\n",
       "    <tr>\n",
       "      <th>20</th>\n",
       "      <td>M1406068114</td>\n",
       "      <td>BP13018</td>\n",
       "      <td>male</td>\n",
       "      <td>23.661439</td>\n",
       "      <td>81</td>\n",
       "      <td>ex-smoker</td>\n",
       "      <td>healthy</td>\n",
       "      <td>81-90</td>\n",
       "      <td>Healthy</td>\n",
       "      <td>Yes</td>\n",
       "      <td>None</td>\n",
       "    </tr>\n",
       "    <tr>\n",
       "      <th>21</th>\n",
       "      <td>M1627315444</td>\n",
       "      <td>BP14005</td>\n",
       "      <td>male</td>\n",
       "      <td>NaN</td>\n",
       "      <td>78</td>\n",
       "      <td>non-smoker</td>\n",
       "      <td>periimplantitis</td>\n",
       "      <td>71-80</td>\n",
       "      <td>Unhealthy</td>\n",
       "      <td>No</td>\n",
       "      <td>periimplantitis</td>\n",
       "    </tr>\n",
       "    <tr>\n",
       "      <th>22</th>\n",
       "      <td>M1581235167</td>\n",
       "      <td>BP14051</td>\n",
       "      <td>female</td>\n",
       "      <td>26.291724</td>\n",
       "      <td>59</td>\n",
       "      <td>non-smoker</td>\n",
       "      <td>mucositis</td>\n",
       "      <td>51-60</td>\n",
       "      <td>Unhealthy</td>\n",
       "      <td>No</td>\n",
       "      <td>mucositis</td>\n",
       "    </tr>\n",
       "    <tr>\n",
       "      <th>23</th>\n",
       "      <td>M1874058212</td>\n",
       "      <td>BP16033</td>\n",
       "      <td>male</td>\n",
       "      <td>27.548209</td>\n",
       "      <td>71</td>\n",
       "      <td>ex-smoker</td>\n",
       "      <td>periimplantitis</td>\n",
       "      <td>71-80</td>\n",
       "      <td>Unhealthy</td>\n",
       "      <td>Yes</td>\n",
       "      <td>periimplantitis</td>\n",
       "    </tr>\n",
       "    <tr>\n",
       "      <th>24</th>\n",
       "      <td>M1544160211</td>\n",
       "      <td>BP16039</td>\n",
       "      <td>male</td>\n",
       "      <td>27.170632</td>\n",
       "      <td>48</td>\n",
       "      <td>ex-smoker</td>\n",
       "      <td>healthy</td>\n",
       "      <td>41-50</td>\n",
       "      <td>Healthy</td>\n",
       "      <td>Yes</td>\n",
       "      <td>None</td>\n",
       "    </tr>\n",
       "    <tr>\n",
       "      <th>25</th>\n",
       "      <td>M1837430813</td>\n",
       "      <td>BP16050</td>\n",
       "      <td>male</td>\n",
       "      <td>25.351541</td>\n",
       "      <td>79</td>\n",
       "      <td>non-smoker</td>\n",
       "      <td>mucositis</td>\n",
       "      <td>71-80</td>\n",
       "      <td>Unhealthy</td>\n",
       "      <td>No</td>\n",
       "      <td>mucositis</td>\n",
       "    </tr>\n",
       "    <tr>\n",
       "      <th>26</th>\n",
       "      <td>M1592280509</td>\n",
       "      <td>BP16095</td>\n",
       "      <td>female</td>\n",
       "      <td>19.605192</td>\n",
       "      <td>59</td>\n",
       "      <td>ex-smoker</td>\n",
       "      <td>mucositis</td>\n",
       "      <td>51-60</td>\n",
       "      <td>Unhealthy</td>\n",
       "      <td>Yes</td>\n",
       "      <td>mucositis</td>\n",
       "    </tr>\n",
       "    <tr>\n",
       "      <th>27</th>\n",
       "      <td>M1834824406</td>\n",
       "      <td>BP19052</td>\n",
       "      <td>male</td>\n",
       "      <td>21.296296</td>\n",
       "      <td>44</td>\n",
       "      <td>non-smoker</td>\n",
       "      <td>healthy</td>\n",
       "      <td>41-50</td>\n",
       "      <td>Healthy</td>\n",
       "      <td>No</td>\n",
       "      <td>None</td>\n",
       "    </tr>\n",
       "    <tr>\n",
       "      <th>28</th>\n",
       "      <td>M1285881131</td>\n",
       "      <td>BP21024</td>\n",
       "      <td>female</td>\n",
       "      <td>NaN</td>\n",
       "      <td>55</td>\n",
       "      <td>smoker</td>\n",
       "      <td>periimplantitis</td>\n",
       "      <td>51-60</td>\n",
       "      <td>Unhealthy</td>\n",
       "      <td>Yes</td>\n",
       "      <td>periimplantitis</td>\n",
       "    </tr>\n",
       "    <tr>\n",
       "      <th>29</th>\n",
       "      <td>M1690656827</td>\n",
       "      <td>BP24002</td>\n",
       "      <td>male</td>\n",
       "      <td>25.737081</td>\n",
       "      <td>62</td>\n",
       "      <td>non-smoker</td>\n",
       "      <td>mucositis</td>\n",
       "      <td>61-70</td>\n",
       "      <td>Unhealthy</td>\n",
       "      <td>No</td>\n",
       "      <td>mucositis</td>\n",
       "    </tr>\n",
       "  </tbody>\n",
       "</table>\n",
       "</div>"
      ],
      "text/plain": [
       "          magID sampleID     sex        bmi  age smoking_state  \\\n",
       "0   M1746978659  BP01006  female  19.531250   87    non-smoker   \n",
       "1   M1008403048  BP01048  female  22.491349   63        smoker   \n",
       "2   M1717522652  BP01053    male  22.491349   70     ex-smoker   \n",
       "3   M1524943176  BP01095  female  19.531250   63    non-smoker   \n",
       "4   M1283945741  BP02019  female  25.711662   77        smoker   \n",
       "5   M1110726505  BP02051    male  26.514482   58    non-smoker   \n",
       "6   M1791475261  BP02056  female  15.916955   55    non-smoker   \n",
       "7   M1004846097  BP03027  female  24.910767   75    non-smoker   \n",
       "8   M1649332925  BP05003    male  18.991965   62    non-smoker   \n",
       "9   M1875601697  BP05004    male  22.038401   61    non-smoker   \n",
       "10  M1341908534  BP05009  female  24.221453   62        smoker   \n",
       "11  M1622504425  BP07009  female  23.588329   54    non-smoker   \n",
       "12  M1094258468  BP07029  female  19.777699   67        smoker   \n",
       "13  M1989389750  BP07037  female  23.124670   62     ex-smoker   \n",
       "14  M1543411560  BP07053    male  26.149277   78    non-smoker   \n",
       "15  M1506432639  BP09021  female  22.213678   76    non-smoker   \n",
       "16  M1473762895  BP09025    male  27.293133   46        smoker   \n",
       "17  M1211523609  BP12052  female  26.297578   64    non-smoker   \n",
       "18  M1509316652  BP13015  female  19.841270   74    non-smoker   \n",
       "19  M1902694554  BP13017    male  20.571429   61     ex-smoker   \n",
       "20  M1406068114  BP13018    male  23.661439   81     ex-smoker   \n",
       "21  M1627315444  BP14005    male        NaN   78    non-smoker   \n",
       "22  M1581235167  BP14051  female  26.291724   59    non-smoker   \n",
       "23  M1874058212  BP16033    male  27.548209   71     ex-smoker   \n",
       "24  M1544160211  BP16039    male  27.170632   48     ex-smoker   \n",
       "25  M1837430813  BP16050    male  25.351541   79    non-smoker   \n",
       "26  M1592280509  BP16095  female  19.605192   59     ex-smoker   \n",
       "27  M1834824406  BP19052    male  21.296296   44    non-smoker   \n",
       "28  M1285881131  BP21024  female        NaN   55        smoker   \n",
       "29  M1690656827  BP24002    male  25.737081   62    non-smoker   \n",
       "\n",
       "        study_group Age_Bin health_status smoking_history    disease_stage  \n",
       "0   periimplantitis   81-90     Unhealthy              No  periimplantitis  \n",
       "1         mucositis   61-70     Unhealthy             Yes        mucositis  \n",
       "2         mucositis   61-70     Unhealthy             Yes        mucositis  \n",
       "3   periimplantitis   61-70     Unhealthy              No  periimplantitis  \n",
       "4         mucositis   71-80     Unhealthy             Yes        mucositis  \n",
       "5         mucositis   51-60     Unhealthy              No        mucositis  \n",
       "6         mucositis   51-60     Unhealthy              No        mucositis  \n",
       "7         mucositis   71-80     Unhealthy              No        mucositis  \n",
       "8         mucositis   61-70     Unhealthy              No        mucositis  \n",
       "9   periimplantitis   61-70     Unhealthy              No  periimplantitis  \n",
       "10          healthy   61-70       Healthy             Yes             None  \n",
       "11          healthy   51-60       Healthy              No             None  \n",
       "12        mucositis   61-70     Unhealthy             Yes        mucositis  \n",
       "13  periimplantitis   61-70     Unhealthy             Yes  periimplantitis  \n",
       "14  periimplantitis   71-80     Unhealthy              No  periimplantitis  \n",
       "15  periimplantitis   71-80     Unhealthy              No  periimplantitis  \n",
       "16        mucositis   41-50     Unhealthy             Yes        mucositis  \n",
       "17  periimplantitis   61-70     Unhealthy              No  periimplantitis  \n",
       "18  periimplantitis   71-80     Unhealthy              No  periimplantitis  \n",
       "19  periimplantitis   61-70     Unhealthy             Yes  periimplantitis  \n",
       "20          healthy   81-90       Healthy             Yes             None  \n",
       "21  periimplantitis   71-80     Unhealthy              No  periimplantitis  \n",
       "22        mucositis   51-60     Unhealthy              No        mucositis  \n",
       "23  periimplantitis   71-80     Unhealthy             Yes  periimplantitis  \n",
       "24          healthy   41-50       Healthy             Yes             None  \n",
       "25        mucositis   71-80     Unhealthy              No        mucositis  \n",
       "26        mucositis   51-60     Unhealthy             Yes        mucositis  \n",
       "27          healthy   41-50       Healthy              No             None  \n",
       "28  periimplantitis   51-60     Unhealthy             Yes  periimplantitis  \n",
       "29        mucositis   61-70     Unhealthy              No        mucositis  "
      ]
     },
     "execution_count": 102,
     "metadata": {},
     "output_type": "execute_result"
    }
   ],
   "source": [
    "metadata"
   ]
  },
  {
   "cell_type": "code",
   "execution_count": 103,
   "metadata": {},
   "outputs": [],
   "source": [
    "healthy_bmi = metadata[(metadata['health_status'] == 'Healthy') & (~metadata['bmi'].isnull())]['bmi']\n",
    "unhealthy_bmi = metadata[(metadata['health_status'] == 'Unhealthy') & (~metadata['bmi'].isnull())]['bmi']\n",
    "\n",
    "# Perform the t-test\n",
    "t_statistic, p_value = stats.ttest_ind(healthy_bmi, unhealthy_bmi)"
   ]
  },
  {
   "cell_type": "code",
   "execution_count": 104,
   "metadata": {},
   "outputs": [
    {
     "data": {
      "text/plain": [
       "(0.6692670822058953, 0.5092250333347924)"
      ]
     },
     "execution_count": 104,
     "metadata": {},
     "output_type": "execute_result"
    }
   ],
   "source": [
    "t_statistic, p_value"
   ]
  },
  {
   "cell_type": "code",
   "execution_count": 105,
   "metadata": {},
   "outputs": [
    {
     "data": {
      "text/plain": [
       "(-1.6890575673355441, 0.1023159246780801)"
      ]
     },
     "execution_count": 105,
     "metadata": {},
     "output_type": "execute_result"
    }
   ],
   "source": [
    "t_statistic, p_value = stats.ttest_ind(metadata[metadata['health_status'] == 'Healthy']['age'], metadata[metadata['health_status'] == 'Unhealthy']['age'])\n",
    "t_statistic, p_value"
   ]
  },
  {
   "cell_type": "code",
   "execution_count": 112,
   "metadata": {},
   "outputs": [
    {
     "data": {
      "text/html": [
       "<div>\n",
       "<style scoped>\n",
       "    .dataframe tbody tr th:only-of-type {\n",
       "        vertical-align: middle;\n",
       "    }\n",
       "\n",
       "    .dataframe tbody tr th {\n",
       "        vertical-align: top;\n",
       "    }\n",
       "\n",
       "    .dataframe thead th {\n",
       "        text-align: right;\n",
       "    }\n",
       "</style>\n",
       "<table border=\"1\" class=\"dataframe\">\n",
       "  <thead>\n",
       "    <tr style=\"text-align: right;\">\n",
       "      <th>health_status</th>\n",
       "      <th>Healthy</th>\n",
       "      <th>Unhealthy</th>\n",
       "    </tr>\n",
       "    <tr>\n",
       "      <th>Age_Bin</th>\n",
       "      <th></th>\n",
       "      <th></th>\n",
       "    </tr>\n",
       "  </thead>\n",
       "  <tbody>\n",
       "    <tr>\n",
       "      <th>41-50</th>\n",
       "      <td>2</td>\n",
       "      <td>1</td>\n",
       "    </tr>\n",
       "    <tr>\n",
       "      <th>51-60</th>\n",
       "      <td>1</td>\n",
       "      <td>5</td>\n",
       "    </tr>\n",
       "    <tr>\n",
       "      <th>61-70</th>\n",
       "      <td>1</td>\n",
       "      <td>10</td>\n",
       "    </tr>\n",
       "    <tr>\n",
       "      <th>71-80</th>\n",
       "      <td>0</td>\n",
       "      <td>8</td>\n",
       "    </tr>\n",
       "    <tr>\n",
       "      <th>81-90</th>\n",
       "      <td>1</td>\n",
       "      <td>1</td>\n",
       "    </tr>\n",
       "  </tbody>\n",
       "</table>\n",
       "</div>"
      ],
      "text/plain": [
       "health_status  Healthy  Unhealthy\n",
       "Age_Bin                          \n",
       "41-50                2          1\n",
       "51-60                1          5\n",
       "61-70                1         10\n",
       "71-80                0          8\n",
       "81-90                1          1"
      ]
     },
     "execution_count": 112,
     "metadata": {},
     "output_type": "execute_result"
    }
   ],
   "source": [
    "pd.crosstab(metadata['Age_Bin'], metadata['health_status'])"
   ]
  },
  {
   "cell_type": "code",
   "execution_count": 111,
   "metadata": {},
   "outputs": [
    {
     "data": {
      "text/plain": [
       "(9.054545454545456, 0.059750470656878184)"
      ]
     },
     "execution_count": 111,
     "metadata": {},
     "output_type": "execute_result"
    }
   ],
   "source": [
    "chi2, p_value, dof, expected = stats.chi2_contingency(pd.crosstab(metadata['Age_Bin'], metadata['health_status']))\n",
    "chi2, p_value"
   ]
  },
  {
   "cell_type": "code",
   "execution_count": 80,
   "metadata": {},
   "outputs": [
    {
     "data": {
      "text/plain": [
       "<Axes: xlabel='study_group', ylabel='bmi'>"
      ]
     },
     "execution_count": 80,
     "metadata": {},
     "output_type": "execute_result"
    },
    {
     "data": {
      "image/png": "[encoded data removed]",
      "text/plain": [
       "<Figure size 640x480 with 1 Axes>"
      ]
     },
     "metadata": {},
     "output_type": "display_data"
    }
   ],
   "source": [
    "sns.barplot(x=metadata[\"study_group\"], y=metadata[\"bmi\"], hue=metadata[\"sex\"], errorbar=None)"
   ]
  },
  {
   "cell_type": "code",
   "execution_count": 81,
   "metadata": {},
   "outputs": [
    {
     "data": {
      "text/plain": [
       "<Axes: xlabel='study_group', ylabel='age'>"
      ]
     },
     "execution_count": 81,
     "metadata": {},
     "output_type": "execute_result"
    },
    {
     "data": {
      "image/png": "[encoded data removed]",
      "text/plain": [
       "<Figure size 640x480 with 1 Axes>"
      ]
     },
     "metadata": {},
     "output_type": "display_data"
    }
   ],
   "source": [
    "sns.barplot(x=metadata[\"study_group\"], y=metadata[\"age\"], hue=metadata[\"sex\"], errorbar=None)"
   ]
  },
  {
   "cell_type": "code",
   "execution_count": 75,
   "metadata": {},
   "outputs": [
    {
     "data": {
      "text/plain": [
       "<Axes: xlabel='study_group', ylabel='age'>"
      ]
     },
     "execution_count": 75,
     "metadata": {},
     "output_type": "execute_result"
    },
    {
     "data": {
      "image/png": "[encoded data removed]",
      "text/plain": [
       "<Figure size 640x480 with 1 Axes>"
      ]
     },
     "metadata": {},
     "output_type": "display_data"
    }
   ],
   "source": [
    "sns.barplot(x=metadata[\"study_group\"], y=metadata[\"age\"], hue=metadata[\"smoking_state\"], errorbar=None)"
   ]
  },
  {
   "cell_type": "code",
   "execution_count": 82,
   "metadata": {},
   "outputs": [
    {
     "data": {
      "text/plain": [
       "<Axes: xlabel='study_group', ylabel='bmi'>"
      ]
     },
     "execution_count": 82,
     "metadata": {},
     "output_type": "execute_result"
    },
    {
     "data": {
      "image/png": "[encoded data removed]",
      "text/plain": [
       "<Figure size 640x480 with 1 Axes>"
      ]
     },
     "metadata": {},
     "output_type": "display_data"
    }
   ],
   "source": [
    "sns.barplot(x=metadata[\"study_group\"], y=metadata[\"bmi\"], hue=metadata[\"Age_Bin\"], errorbar=None)"
   ]
  },
  {
   "cell_type": "code",
   "execution_count": 83,
   "metadata": {},
   "outputs": [
    {
     "data": {
      "image/png": "[encoded data removed]",
      "text/plain": [
       "<Figure size 640x480 with 1 Axes>"
      ]
     },
     "metadata": {},
     "output_type": "display_data"
    }
   ],
   "source": [
    "sns.countplot(x=\"study_group\", hue=\"Age_Bin\", data=metadata)\n",
    "\n",
    "plt.title(\"Count of Study Group Members by Age Bin\")\n",
    "plt.xlabel(\"Study Group\")\n",
    "plt.ylabel(\"Count\")\n",
    "plt.legend(title=\"Age Bin\")\n",
    "\n",
    "plt.show()"
   ]
  },
  {
   "cell_type": "code",
   "execution_count": 53,
   "metadata": {},
   "outputs": [
    {
     "data": {
      "image/png": "[encoded data removed]",
      "text/plain": [
       "<Figure size 1290.25x400 with 3 Axes>"
      ]
     },
     "metadata": {},
     "output_type": "display_data"
    }
   ],
   "source": [
    "import seaborn as sns\n",
    "import matplotlib.pyplot as plt\n",
    "\n",
    "# Assuming metadata is your DataFrame and it contains 'study_group', 'Age_Bin', and 'Smoking_State' columns.\n",
    "sns.catplot(x=\"study_group\", hue=\"Age_Bin\", col=\"smoking_state\", \n",
    "            data=metadata, kind=\"count\", height=4, aspect=1)\n",
    "\n",
    "plt.subplots_adjust(top=0.8)\n",
    "plt.suptitle(\"Count of Study Group Members by Age Bin and Smoking State\")\n",
    "plt.show()\n"
   ]
  },
  {
   "cell_type": "code",
   "execution_count": 70,
   "metadata": {},
   "outputs": [
    {
     "data": {
      "image/png": "[encoded data removed]",
      "text/plain": [
       "<Figure size 531.875x400 with 1 Axes>"
      ]
     },
     "metadata": {},
     "output_type": "display_data"
    }
   ],
   "source": [
    "sns.catplot(x=\"study_group\", hue=\"smoking_state\", \n",
    "            data=metadata, kind=\"count\", height=4, aspect=1)\n",
    "\n",
    "plt.subplots_adjust(top=0.8)\n",
    "plt.suptitle(\"Count of Study Group Members by Age Bin and Smoking State\")\n",
    "plt.show()"
   ]
  },
  {
   "cell_type": "code",
   "execution_count": 74,
   "metadata": {},
   "outputs": [
    {
     "data": {
      "image/png": "[encoded data removed]",
      "text/plain": [
       "<Figure size 640x480 with 1 Axes>"
      ]
     },
     "metadata": {},
     "output_type": "display_data"
    }
   ],
   "source": [
    "sns.stripplot(x=\"study_group\", y=\"age\", hue=\"smoking_state\", data=metadata, jitter=True, dodge=True)\n",
    "\n",
    "plt.title(\"Distribution of Age in Study Groups by Disease Status\")\n",
    "plt.xlabel(\"Study Group\")\n",
    "plt.ylabel(\"Age\")\n",
    "\n",
    "# Place the legend outside the plot to avoid covering data points\n",
    "plt.legend(title=\"Disease Status\", bbox_to_anchor=(1.05, 1), loc='upper left')\n",
    "\n",
    "plt.tight_layout()  # Adjust the layout to make room for the legend\n",
    "plt.show()"
   ]
  },
  {
   "cell_type": "code",
   "execution_count": 18,
   "metadata": {},
   "outputs": [
    {
     "data": {
      "image/png": "[encoded data removed]",
      "text/plain": [
       "<Figure size 640x480 with 1 Axes>"
      ]
     },
     "metadata": {},
     "output_type": "display_data"
    }
   ],
   "source": [
    "sns.stripplot(x=\"study_group\", y=\"bmi\", hue=\"smoking_state\", data=metadata, jitter=True, dodge=True)\n",
    "\n",
    "plt.title(\"Distribution of Age in Study Groups by Disease Status\")\n",
    "plt.xlabel(\"Study Group\")\n",
    "plt.ylabel(\"Age\")\n",
    "\n",
    "# Place the legend outside the plot to avoid covering data points\n",
    "plt.legend(title=\"Disease Status\", bbox_to_anchor=(1.05, 1), loc='upper left')\n",
    "\n",
    "plt.tight_layout()  # Adjust the layout to make room for the legend\n",
    "plt.show()"
   ]
  },
  {
   "cell_type": "code",
   "execution_count": 85,
   "metadata": {},
   "outputs": [
    {
     "name": "stdout",
     "output_type": "stream",
     "text": [
      "Expected frequencies too low, and table too large for Fisher's Exact Test.\n"
     ]
    }
   ],
   "source": [
    "from scipy.stats import chi2_contingency, fisher_exact\n",
    "\n",
    "contingency_table = pd.crosstab(metadata['study_group'], metadata['smoking_state'])\n",
    "# Checking the smallest expected frequency\n",
    "chi2, p, dof, expected = chi2_contingency(contingency_table)\n",
    "if (expected >= 5).all():\n",
    "    # Use chi-square test\n",
    "    print(f\"Chi-square test p-value: {p}\")\n",
    "else:\n",
    "    # Use Fisher's Exact Test, which is only accurate for 2x2 tables.\n",
    "    # If your table is larger, you'll need to use a different approach or software capable of handling larger tables.\n",
    "    if contingency_table.shape == (2, 2):\n",
    "        _, p = fisher_exact(contingency_table)\n",
    "        print(f\"Fisher's Exact test p-value: {p}\")\n",
    "    else:\n",
    "        print(\"Expected frequencies too low, and table too large for Fisher's Exact Test.\")"
   ]
  },
  {
   "cell_type": "code",
   "execution_count": 86,
   "metadata": {},
   "outputs": [
    {
     "data": {
      "text/html": [
       "<div>\n",
       "<style scoped>\n",
       "    .dataframe tbody tr th:only-of-type {\n",
       "        vertical-align: middle;\n",
       "    }\n",
       "\n",
       "    .dataframe tbody tr th {\n",
       "        vertical-align: top;\n",
       "    }\n",
       "\n",
       "    .dataframe thead th {\n",
       "        text-align: right;\n",
       "    }\n",
       "</style>\n",
       "<table border=\"1\" class=\"dataframe\">\n",
       "  <thead>\n",
       "    <tr style=\"text-align: right;\">\n",
       "      <th>smoking_state</th>\n",
       "      <th>ex-smoker</th>\n",
       "      <th>non-smoker</th>\n",
       "      <th>smoker</th>\n",
       "    </tr>\n",
       "    <tr>\n",
       "      <th>study_group</th>\n",
       "      <th></th>\n",
       "      <th></th>\n",
       "      <th></th>\n",
       "    </tr>\n",
       "  </thead>\n",
       "  <tbody>\n",
       "    <tr>\n",
       "      <th>healthy</th>\n",
       "      <td>2</td>\n",
       "      <td>2</td>\n",
       "      <td>1</td>\n",
       "    </tr>\n",
       "    <tr>\n",
       "      <th>mucositis</th>\n",
       "      <td>2</td>\n",
       "      <td>7</td>\n",
       "      <td>4</td>\n",
       "    </tr>\n",
       "    <tr>\n",
       "      <th>periimplantitis</th>\n",
       "      <td>3</td>\n",
       "      <td>8</td>\n",
       "      <td>1</td>\n",
       "    </tr>\n",
       "  </tbody>\n",
       "</table>\n",
       "</div>"
      ],
      "text/plain": [
       "smoking_state    ex-smoker  non-smoker  smoker\n",
       "study_group                                   \n",
       "healthy                  2           2       1\n",
       "mucositis                2           7       4\n",
       "periimplantitis          3           8       1"
      ]
     },
     "execution_count": 86,
     "metadata": {},
     "output_type": "execute_result"
    }
   ],
   "source": [
    "contingency_table"
   ]
  },
  {
   "cell_type": "code",
   "execution_count": 121,
   "metadata": {},
   "outputs": [
    {
     "data": {
      "text/plain": [
       "(9.054545454545455, 0.05975047065687824)"
      ]
     },
     "execution_count": 121,
     "metadata": {},
     "output_type": "execute_result"
    }
   ],
   "source": [
    "contingency_table = pd.crosstab(metadata['health_status'], metadata['Age_Bin'])\n",
    "chi2, p, dof, expected = chi2_contingency(contingency_table)\n",
    "chi2, p"
   ]
  },
  {
   "attachments": {},
   "cell_type": "markdown",
   "metadata": {},
   "source": [
    "We can't apply Chi-Squate even though N=30 because frequencies are less than 5\n",
    "\n",
    "We can neither apply Fisher's because table is not 2x2"
   ]
  },
  {
   "cell_type": "code",
   "execution_count": 19,
   "metadata": {},
   "outputs": [],
   "source": [
    "metadata['health_status'] = metadata['study_group'].apply(lambda x: 'Healthy' if x == 'healthy' else 'Unhealthy')\n",
    "\n",
    "# Create a new column 'smoking_history' where 'non-smoker' is mapped to 'No' and all other values to 'Yes'.\n",
    "metadata['smoking_history'] = metadata['smoking_state'].apply(lambda x: 'No' if x == 'non-smoker' else 'Yes')\n"
   ]
  },
  {
   "cell_type": "code",
   "execution_count": 88,
   "metadata": {},
   "outputs": [],
   "source": [
    "contingency_table = pd.crosstab(metadata['health_status'], metadata['smoking_history'])\n",
    "_, p = fisher_exact(contingency_table)"
   ]
  },
  {
   "cell_type": "code",
   "execution_count": 90,
   "metadata": {},
   "outputs": [
    {
     "data": {
      "text/html": [
       "<div>\n",
       "<style scoped>\n",
       "    .dataframe tbody tr th:only-of-type {\n",
       "        vertical-align: middle;\n",
       "    }\n",
       "\n",
       "    .dataframe tbody tr th {\n",
       "        vertical-align: top;\n",
       "    }\n",
       "\n",
       "    .dataframe thead th {\n",
       "        text-align: right;\n",
       "    }\n",
       "</style>\n",
       "<table border=\"1\" class=\"dataframe\">\n",
       "  <thead>\n",
       "    <tr style=\"text-align: right;\">\n",
       "      <th>smoking_history</th>\n",
       "      <th>No</th>\n",
       "      <th>Yes</th>\n",
       "    </tr>\n",
       "    <tr>\n",
       "      <th>health_status</th>\n",
       "      <th></th>\n",
       "      <th></th>\n",
       "    </tr>\n",
       "  </thead>\n",
       "  <tbody>\n",
       "    <tr>\n",
       "      <th>Healthy</th>\n",
       "      <td>2</td>\n",
       "      <td>3</td>\n",
       "    </tr>\n",
       "    <tr>\n",
       "      <th>Unhealthy</th>\n",
       "      <td>15</td>\n",
       "      <td>10</td>\n",
       "    </tr>\n",
       "  </tbody>\n",
       "</table>\n",
       "</div>"
      ],
      "text/plain": [
       "smoking_history  No  Yes\n",
       "health_status           \n",
       "Healthy           2    3\n",
       "Unhealthy        15   10"
      ]
     },
     "execution_count": 90,
     "metadata": {},
     "output_type": "execute_result"
    }
   ],
   "source": [
    "contingency_table"
   ]
  },
  {
   "cell_type": "code",
   "execution_count": 89,
   "metadata": {},
   "outputs": [
    {
     "data": {
      "text/plain": [
       "0.6278051450465243"
      ]
     },
     "execution_count": 89,
     "metadata": {},
     "output_type": "execute_result"
    }
   ],
   "source": [
    "p"
   ]
  },
  {
   "cell_type": "code",
   "execution_count": 92,
   "metadata": {},
   "outputs": [],
   "source": [
    "# Create a new column 'disease_stage' that maps 'healthy' to None and retains the original disease labels for the rest.\n",
    "metadata['disease_stage'] = metadata['study_group'].apply(lambda x: None if x == 'healthy' else x)\n",
    "contingency_table = pd.crosstab(metadata['disease_stage'], metadata['smoking_history'])\n",
    "_, p = fisher_exact(contingency_table)"
   ]
  },
  {
   "cell_type": "code",
   "execution_count": 94,
   "metadata": {},
   "outputs": [
    {
     "data": {
      "text/html": [
       "<div>\n",
       "<style scoped>\n",
       "    .dataframe tbody tr th:only-of-type {\n",
       "        vertical-align: middle;\n",
       "    }\n",
       "\n",
       "    .dataframe tbody tr th {\n",
       "        vertical-align: top;\n",
       "    }\n",
       "\n",
       "    .dataframe thead th {\n",
       "        text-align: right;\n",
       "    }\n",
       "</style>\n",
       "<table border=\"1\" class=\"dataframe\">\n",
       "  <thead>\n",
       "    <tr style=\"text-align: right;\">\n",
       "      <th>smoking_history</th>\n",
       "      <th>No</th>\n",
       "      <th>Yes</th>\n",
       "    </tr>\n",
       "    <tr>\n",
       "      <th>disease_stage</th>\n",
       "      <th></th>\n",
       "      <th></th>\n",
       "    </tr>\n",
       "  </thead>\n",
       "  <tbody>\n",
       "    <tr>\n",
       "      <th>mucositis</th>\n",
       "      <td>7</td>\n",
       "      <td>6</td>\n",
       "    </tr>\n",
       "    <tr>\n",
       "      <th>periimplantitis</th>\n",
       "      <td>8</td>\n",
       "      <td>4</td>\n",
       "    </tr>\n",
       "  </tbody>\n",
       "</table>\n",
       "</div>"
      ],
      "text/plain": [
       "smoking_history  No  Yes\n",
       "disease_stage           \n",
       "mucositis         7    6\n",
       "periimplantitis   8    4"
      ]
     },
     "execution_count": 94,
     "metadata": {},
     "output_type": "execute_result"
    }
   ],
   "source": [
    "contingency_table"
   ]
  },
  {
   "cell_type": "code",
   "execution_count": 95,
   "metadata": {},
   "outputs": [
    {
     "data": {
      "text/plain": [
       "(0.6881679903082514, 0.5833333333333334)"
      ]
     },
     "execution_count": 95,
     "metadata": {},
     "output_type": "execute_result"
    }
   ],
   "source": [
    "p, _"
   ]
  },
  {
   "attachments": {},
   "cell_type": "markdown",
   "metadata": {},
   "source": [
    "We created new columns as health_status, disease_stage, smoking history and age_bins.\n",
    "\n",
    "There was difference in observation but these were not statistically significant\n",
    "\n",
    "Maybe ggplot and add statistical significance note on chart?"
   ]
  },
  {
   "cell_type": "code",
   "execution_count": 24,
   "metadata": {},
   "outputs": [
    {
     "data": {
      "text/html": [
       "<div>\n",
       "<style scoped>\n",
       "    .dataframe tbody tr th:only-of-type {\n",
       "        vertical-align: middle;\n",
       "    }\n",
       "\n",
       "    .dataframe tbody tr th {\n",
       "        vertical-align: top;\n",
       "    }\n",
       "\n",
       "    .dataframe thead th {\n",
       "        text-align: right;\n",
       "    }\n",
       "</style>\n",
       "<table border=\"1\" class=\"dataframe\">\n",
       "  <thead>\n",
       "    <tr style=\"text-align: right;\">\n",
       "      <th></th>\n",
       "      <th>magID</th>\n",
       "      <th>sampleID</th>\n",
       "      <th>sex</th>\n",
       "      <th>bmi</th>\n",
       "      <th>age</th>\n",
       "      <th>smoking_state</th>\n",
       "      <th>study_group</th>\n",
       "      <th>Age_Bin</th>\n",
       "      <th>health_status</th>\n",
       "      <th>smoking_history</th>\n",
       "    </tr>\n",
       "  </thead>\n",
       "  <tbody>\n",
       "    <tr>\n",
       "      <th>10</th>\n",
       "      <td>M1341908534</td>\n",
       "      <td>BP05009</td>\n",
       "      <td>female</td>\n",
       "      <td>24.221453</td>\n",
       "      <td>62</td>\n",
       "      <td>smoker</td>\n",
       "      <td>healthy</td>\n",
       "      <td>61-70</td>\n",
       "      <td>Healthy</td>\n",
       "      <td>Yes</td>\n",
       "    </tr>\n",
       "    <tr>\n",
       "      <th>11</th>\n",
       "      <td>M1622504425</td>\n",
       "      <td>BP07009</td>\n",
       "      <td>female</td>\n",
       "      <td>23.588329</td>\n",
       "      <td>54</td>\n",
       "      <td>non-smoker</td>\n",
       "      <td>healthy</td>\n",
       "      <td>51-60</td>\n",
       "      <td>Healthy</td>\n",
       "      <td>No</td>\n",
       "    </tr>\n",
       "    <tr>\n",
       "      <th>20</th>\n",
       "      <td>M1406068114</td>\n",
       "      <td>BP13018</td>\n",
       "      <td>male</td>\n",
       "      <td>23.661439</td>\n",
       "      <td>81</td>\n",
       "      <td>ex-smoker</td>\n",
       "      <td>healthy</td>\n",
       "      <td>81-90</td>\n",
       "      <td>Healthy</td>\n",
       "      <td>Yes</td>\n",
       "    </tr>\n",
       "    <tr>\n",
       "      <th>24</th>\n",
       "      <td>M1544160211</td>\n",
       "      <td>BP16039</td>\n",
       "      <td>male</td>\n",
       "      <td>27.170632</td>\n",
       "      <td>48</td>\n",
       "      <td>ex-smoker</td>\n",
       "      <td>healthy</td>\n",
       "      <td>41-50</td>\n",
       "      <td>Healthy</td>\n",
       "      <td>Yes</td>\n",
       "    </tr>\n",
       "    <tr>\n",
       "      <th>27</th>\n",
       "      <td>M1834824406</td>\n",
       "      <td>BP19052</td>\n",
       "      <td>male</td>\n",
       "      <td>21.296296</td>\n",
       "      <td>44</td>\n",
       "      <td>non-smoker</td>\n",
       "      <td>healthy</td>\n",
       "      <td>41-50</td>\n",
       "      <td>Healthy</td>\n",
       "      <td>No</td>\n",
       "    </tr>\n",
       "  </tbody>\n",
       "</table>\n",
       "</div>"
      ],
      "text/plain": [
       "          magID sampleID     sex        bmi  age smoking_state study_group  \\\n",
       "10  M1341908534  BP05009  female  24.221453   62        smoker     healthy   \n",
       "11  M1622504425  BP07009  female  23.588329   54    non-smoker     healthy   \n",
       "20  M1406068114  BP13018    male  23.661439   81     ex-smoker     healthy   \n",
       "24  M1544160211  BP16039    male  27.170632   48     ex-smoker     healthy   \n",
       "27  M1834824406  BP19052    male  21.296296   44    non-smoker     healthy   \n",
       "\n",
       "   Age_Bin health_status smoking_history  \n",
       "10   61-70       Healthy             Yes  \n",
       "11   51-60       Healthy              No  \n",
       "20   81-90       Healthy             Yes  \n",
       "24   41-50       Healthy             Yes  \n",
       "27   41-50       Healthy              No  "
      ]
     },
     "execution_count": 24,
     "metadata": {},
     "output_type": "execute_result"
    }
   ],
   "source": [
    "metadata[metadata[\"health_status\"]==\"Healthy\"]"
   ]
  },
  {
   "cell_type": "code",
   "execution_count": 25,
   "metadata": {},
   "outputs": [
    {
     "data": {
      "text/html": [
       "<div>\n",
       "<style scoped>\n",
       "    .dataframe tbody tr th:only-of-type {\n",
       "        vertical-align: middle;\n",
       "    }\n",
       "\n",
       "    .dataframe tbody tr th {\n",
       "        vertical-align: top;\n",
       "    }\n",
       "\n",
       "    .dataframe thead th {\n",
       "        text-align: right;\n",
       "    }\n",
       "</style>\n",
       "<table border=\"1\" class=\"dataframe\">\n",
       "  <thead>\n",
       "    <tr style=\"text-align: right;\">\n",
       "      <th></th>\n",
       "      <th>magID</th>\n",
       "      <th>sampleID</th>\n",
       "      <th>sex</th>\n",
       "      <th>bmi</th>\n",
       "      <th>age</th>\n",
       "      <th>smoking_state</th>\n",
       "      <th>study_group</th>\n",
       "      <th>Age_Bin</th>\n",
       "      <th>health_status</th>\n",
       "      <th>smoking_history</th>\n",
       "    </tr>\n",
       "  </thead>\n",
       "  <tbody>\n",
       "    <tr>\n",
       "      <th>0</th>\n",
       "      <td>M1746978659</td>\n",
       "      <td>BP01006</td>\n",
       "      <td>female</td>\n",
       "      <td>19.531250</td>\n",
       "      <td>87</td>\n",
       "      <td>non-smoker</td>\n",
       "      <td>periimplantitis</td>\n",
       "      <td>81-90</td>\n",
       "      <td>Unhealthy</td>\n",
       "      <td>No</td>\n",
       "    </tr>\n",
       "    <tr>\n",
       "      <th>1</th>\n",
       "      <td>M1008403048</td>\n",
       "      <td>BP01048</td>\n",
       "      <td>female</td>\n",
       "      <td>22.491349</td>\n",
       "      <td>63</td>\n",
       "      <td>smoker</td>\n",
       "      <td>mucositis</td>\n",
       "      <td>61-70</td>\n",
       "      <td>Unhealthy</td>\n",
       "      <td>Yes</td>\n",
       "    </tr>\n",
       "    <tr>\n",
       "      <th>2</th>\n",
       "      <td>M1717522652</td>\n",
       "      <td>BP01053</td>\n",
       "      <td>male</td>\n",
       "      <td>22.491349</td>\n",
       "      <td>70</td>\n",
       "      <td>ex-smoker</td>\n",
       "      <td>mucositis</td>\n",
       "      <td>61-70</td>\n",
       "      <td>Unhealthy</td>\n",
       "      <td>Yes</td>\n",
       "    </tr>\n",
       "    <tr>\n",
       "      <th>3</th>\n",
       "      <td>M1524943176</td>\n",
       "      <td>BP01095</td>\n",
       "      <td>female</td>\n",
       "      <td>19.531250</td>\n",
       "      <td>63</td>\n",
       "      <td>non-smoker</td>\n",
       "      <td>periimplantitis</td>\n",
       "      <td>61-70</td>\n",
       "      <td>Unhealthy</td>\n",
       "      <td>No</td>\n",
       "    </tr>\n",
       "    <tr>\n",
       "      <th>4</th>\n",
       "      <td>M1283945741</td>\n",
       "      <td>BP02019</td>\n",
       "      <td>female</td>\n",
       "      <td>25.711662</td>\n",
       "      <td>77</td>\n",
       "      <td>smoker</td>\n",
       "      <td>mucositis</td>\n",
       "      <td>71-80</td>\n",
       "      <td>Unhealthy</td>\n",
       "      <td>Yes</td>\n",
       "    </tr>\n",
       "    <tr>\n",
       "      <th>5</th>\n",
       "      <td>M1110726505</td>\n",
       "      <td>BP02051</td>\n",
       "      <td>male</td>\n",
       "      <td>26.514482</td>\n",
       "      <td>58</td>\n",
       "      <td>non-smoker</td>\n",
       "      <td>mucositis</td>\n",
       "      <td>51-60</td>\n",
       "      <td>Unhealthy</td>\n",
       "      <td>No</td>\n",
       "    </tr>\n",
       "    <tr>\n",
       "      <th>6</th>\n",
       "      <td>M1791475261</td>\n",
       "      <td>BP02056</td>\n",
       "      <td>female</td>\n",
       "      <td>15.916955</td>\n",
       "      <td>55</td>\n",
       "      <td>non-smoker</td>\n",
       "      <td>mucositis</td>\n",
       "      <td>51-60</td>\n",
       "      <td>Unhealthy</td>\n",
       "      <td>No</td>\n",
       "    </tr>\n",
       "    <tr>\n",
       "      <th>7</th>\n",
       "      <td>M1004846097</td>\n",
       "      <td>BP03027</td>\n",
       "      <td>female</td>\n",
       "      <td>24.910767</td>\n",
       "      <td>75</td>\n",
       "      <td>non-smoker</td>\n",
       "      <td>mucositis</td>\n",
       "      <td>71-80</td>\n",
       "      <td>Unhealthy</td>\n",
       "      <td>No</td>\n",
       "    </tr>\n",
       "    <tr>\n",
       "      <th>8</th>\n",
       "      <td>M1649332925</td>\n",
       "      <td>BP05003</td>\n",
       "      <td>male</td>\n",
       "      <td>18.991965</td>\n",
       "      <td>62</td>\n",
       "      <td>non-smoker</td>\n",
       "      <td>mucositis</td>\n",
       "      <td>61-70</td>\n",
       "      <td>Unhealthy</td>\n",
       "      <td>No</td>\n",
       "    </tr>\n",
       "    <tr>\n",
       "      <th>9</th>\n",
       "      <td>M1875601697</td>\n",
       "      <td>BP05004</td>\n",
       "      <td>male</td>\n",
       "      <td>22.038401</td>\n",
       "      <td>61</td>\n",
       "      <td>non-smoker</td>\n",
       "      <td>periimplantitis</td>\n",
       "      <td>61-70</td>\n",
       "      <td>Unhealthy</td>\n",
       "      <td>No</td>\n",
       "    </tr>\n",
       "    <tr>\n",
       "      <th>12</th>\n",
       "      <td>M1094258468</td>\n",
       "      <td>BP07029</td>\n",
       "      <td>female</td>\n",
       "      <td>19.777699</td>\n",
       "      <td>67</td>\n",
       "      <td>smoker</td>\n",
       "      <td>mucositis</td>\n",
       "      <td>61-70</td>\n",
       "      <td>Unhealthy</td>\n",
       "      <td>Yes</td>\n",
       "    </tr>\n",
       "    <tr>\n",
       "      <th>13</th>\n",
       "      <td>M1989389750</td>\n",
       "      <td>BP07037</td>\n",
       "      <td>female</td>\n",
       "      <td>23.124670</td>\n",
       "      <td>62</td>\n",
       "      <td>ex-smoker</td>\n",
       "      <td>periimplantitis</td>\n",
       "      <td>61-70</td>\n",
       "      <td>Unhealthy</td>\n",
       "      <td>Yes</td>\n",
       "    </tr>\n",
       "    <tr>\n",
       "      <th>14</th>\n",
       "      <td>M1543411560</td>\n",
       "      <td>BP07053</td>\n",
       "      <td>male</td>\n",
       "      <td>26.149277</td>\n",
       "      <td>78</td>\n",
       "      <td>non-smoker</td>\n",
       "      <td>periimplantitis</td>\n",
       "      <td>71-80</td>\n",
       "      <td>Unhealthy</td>\n",
       "      <td>No</td>\n",
       "    </tr>\n",
       "    <tr>\n",
       "      <th>15</th>\n",
       "      <td>M1506432639</td>\n",
       "      <td>BP09021</td>\n",
       "      <td>female</td>\n",
       "      <td>22.213678</td>\n",
       "      <td>76</td>\n",
       "      <td>non-smoker</td>\n",
       "      <td>periimplantitis</td>\n",
       "      <td>71-80</td>\n",
       "      <td>Unhealthy</td>\n",
       "      <td>No</td>\n",
       "    </tr>\n",
       "    <tr>\n",
       "      <th>16</th>\n",
       "      <td>M1473762895</td>\n",
       "      <td>BP09025</td>\n",
       "      <td>male</td>\n",
       "      <td>27.293133</td>\n",
       "      <td>46</td>\n",
       "      <td>smoker</td>\n",
       "      <td>mucositis</td>\n",
       "      <td>41-50</td>\n",
       "      <td>Unhealthy</td>\n",
       "      <td>Yes</td>\n",
       "    </tr>\n",
       "    <tr>\n",
       "      <th>17</th>\n",
       "      <td>M1211523609</td>\n",
       "      <td>BP12052</td>\n",
       "      <td>female</td>\n",
       "      <td>26.297578</td>\n",
       "      <td>64</td>\n",
       "      <td>non-smoker</td>\n",
       "      <td>periimplantitis</td>\n",
       "      <td>61-70</td>\n",
       "      <td>Unhealthy</td>\n",
       "      <td>No</td>\n",
       "    </tr>\n",
       "    <tr>\n",
       "      <th>18</th>\n",
       "      <td>M1509316652</td>\n",
       "      <td>BP13015</td>\n",
       "      <td>female</td>\n",
       "      <td>19.841270</td>\n",
       "      <td>74</td>\n",
       "      <td>non-smoker</td>\n",
       "      <td>periimplantitis</td>\n",
       "      <td>71-80</td>\n",
       "      <td>Unhealthy</td>\n",
       "      <td>No</td>\n",
       "    </tr>\n",
       "    <tr>\n",
       "      <th>19</th>\n",
       "      <td>M1902694554</td>\n",
       "      <td>BP13017</td>\n",
       "      <td>male</td>\n",
       "      <td>20.571429</td>\n",
       "      <td>61</td>\n",
       "      <td>ex-smoker</td>\n",
       "      <td>periimplantitis</td>\n",
       "      <td>61-70</td>\n",
       "      <td>Unhealthy</td>\n",
       "      <td>Yes</td>\n",
       "    </tr>\n",
       "    <tr>\n",
       "      <th>21</th>\n",
       "      <td>M1627315444</td>\n",
       "      <td>BP14005</td>\n",
       "      <td>male</td>\n",
       "      <td>NaN</td>\n",
       "      <td>78</td>\n",
       "      <td>non-smoker</td>\n",
       "      <td>periimplantitis</td>\n",
       "      <td>71-80</td>\n",
       "      <td>Unhealthy</td>\n",
       "      <td>No</td>\n",
       "    </tr>\n",
       "    <tr>\n",
       "      <th>22</th>\n",
       "      <td>M1581235167</td>\n",
       "      <td>BP14051</td>\n",
       "      <td>female</td>\n",
       "      <td>26.291724</td>\n",
       "      <td>59</td>\n",
       "      <td>non-smoker</td>\n",
       "      <td>mucositis</td>\n",
       "      <td>51-60</td>\n",
       "      <td>Unhealthy</td>\n",
       "      <td>No</td>\n",
       "    </tr>\n",
       "    <tr>\n",
       "      <th>23</th>\n",
       "      <td>M1874058212</td>\n",
       "      <td>BP16033</td>\n",
       "      <td>male</td>\n",
       "      <td>27.548209</td>\n",
       "      <td>71</td>\n",
       "      <td>ex-smoker</td>\n",
       "      <td>periimplantitis</td>\n",
       "      <td>71-80</td>\n",
       "      <td>Unhealthy</td>\n",
       "      <td>Yes</td>\n",
       "    </tr>\n",
       "    <tr>\n",
       "      <th>25</th>\n",
       "      <td>M1837430813</td>\n",
       "      <td>BP16050</td>\n",
       "      <td>male</td>\n",
       "      <td>25.351541</td>\n",
       "      <td>79</td>\n",
       "      <td>non-smoker</td>\n",
       "      <td>mucositis</td>\n",
       "      <td>71-80</td>\n",
       "      <td>Unhealthy</td>\n",
       "      <td>No</td>\n",
       "    </tr>\n",
       "    <tr>\n",
       "      <th>26</th>\n",
       "      <td>M1592280509</td>\n",
       "      <td>BP16095</td>\n",
       "      <td>female</td>\n",
       "      <td>19.605192</td>\n",
       "      <td>59</td>\n",
       "      <td>ex-smoker</td>\n",
       "      <td>mucositis</td>\n",
       "      <td>51-60</td>\n",
       "      <td>Unhealthy</td>\n",
       "      <td>Yes</td>\n",
       "    </tr>\n",
       "    <tr>\n",
       "      <th>28</th>\n",
       "      <td>M1285881131</td>\n",
       "      <td>BP21024</td>\n",
       "      <td>female</td>\n",
       "      <td>NaN</td>\n",
       "      <td>55</td>\n",
       "      <td>smoker</td>\n",
       "      <td>periimplantitis</td>\n",
       "      <td>51-60</td>\n",
       "      <td>Unhealthy</td>\n",
       "      <td>Yes</td>\n",
       "    </tr>\n",
       "    <tr>\n",
       "      <th>29</th>\n",
       "      <td>M1690656827</td>\n",
       "      <td>BP24002</td>\n",
       "      <td>male</td>\n",
       "      <td>25.737081</td>\n",
       "      <td>62</td>\n",
       "      <td>non-smoker</td>\n",
       "      <td>mucositis</td>\n",
       "      <td>61-70</td>\n",
       "      <td>Unhealthy</td>\n",
       "      <td>No</td>\n",
       "    </tr>\n",
       "  </tbody>\n",
       "</table>\n",
       "</div>"
      ],
      "text/plain": [
       "          magID sampleID     sex        bmi  age smoking_state  \\\n",
       "0   M1746978659  BP01006  female  19.531250   87    non-smoker   \n",
       "1   M1008403048  BP01048  female  22.491349   63        smoker   \n",
       "2   M1717522652  BP01053    male  22.491349   70     ex-smoker   \n",
       "3   M1524943176  BP01095  female  19.531250   63    non-smoker   \n",
       "4   M1283945741  BP02019  female  25.711662   77        smoker   \n",
       "5   M1110726505  BP02051    male  26.514482   58    non-smoker   \n",
       "6   M1791475261  BP02056  female  15.916955   55    non-smoker   \n",
       "7   M1004846097  BP03027  female  24.910767   75    non-smoker   \n",
       "8   M1649332925  BP05003    male  18.991965   62    non-smoker   \n",
       "9   M1875601697  BP05004    male  22.038401   61    non-smoker   \n",
       "12  M1094258468  BP07029  female  19.777699   67        smoker   \n",
       "13  M1989389750  BP07037  female  23.124670   62     ex-smoker   \n",
       "14  M1543411560  BP07053    male  26.149277   78    non-smoker   \n",
       "15  M1506432639  BP09021  female  22.213678   76    non-smoker   \n",
       "16  M1473762895  BP09025    male  27.293133   46        smoker   \n",
       "17  M1211523609  BP12052  female  26.297578   64    non-smoker   \n",
       "18  M1509316652  BP13015  female  19.841270   74    non-smoker   \n",
       "19  M1902694554  BP13017    male  20.571429   61     ex-smoker   \n",
       "21  M1627315444  BP14005    male        NaN   78    non-smoker   \n",
       "22  M1581235167  BP14051  female  26.291724   59    non-smoker   \n",
       "23  M1874058212  BP16033    male  27.548209   71     ex-smoker   \n",
       "25  M1837430813  BP16050    male  25.351541   79    non-smoker   \n",
       "26  M1592280509  BP16095  female  19.605192   59     ex-smoker   \n",
       "28  M1285881131  BP21024  female        NaN   55        smoker   \n",
       "29  M1690656827  BP24002    male  25.737081   62    non-smoker   \n",
       "\n",
       "        study_group Age_Bin health_status smoking_history  \n",
       "0   periimplantitis   81-90     Unhealthy              No  \n",
       "1         mucositis   61-70     Unhealthy             Yes  \n",
       "2         mucositis   61-70     Unhealthy             Yes  \n",
       "3   periimplantitis   61-70     Unhealthy              No  \n",
       "4         mucositis   71-80     Unhealthy             Yes  \n",
       "5         mucositis   51-60     Unhealthy              No  \n",
       "6         mucositis   51-60     Unhealthy              No  \n",
       "7         mucositis   71-80     Unhealthy              No  \n",
       "8         mucositis   61-70     Unhealthy              No  \n",
       "9   periimplantitis   61-70     Unhealthy              No  \n",
       "12        mucositis   61-70     Unhealthy             Yes  \n",
       "13  periimplantitis   61-70     Unhealthy             Yes  \n",
       "14  periimplantitis   71-80     Unhealthy              No  \n",
       "15  periimplantitis   71-80     Unhealthy              No  \n",
       "16        mucositis   41-50     Unhealthy             Yes  \n",
       "17  periimplantitis   61-70     Unhealthy              No  \n",
       "18  periimplantitis   71-80     Unhealthy              No  \n",
       "19  periimplantitis   61-70     Unhealthy             Yes  \n",
       "21  periimplantitis   71-80     Unhealthy              No  \n",
       "22        mucositis   51-60     Unhealthy              No  \n",
       "23  periimplantitis   71-80     Unhealthy             Yes  \n",
       "25        mucositis   71-80     Unhealthy              No  \n",
       "26        mucositis   51-60     Unhealthy             Yes  \n",
       "28  periimplantitis   51-60     Unhealthy             Yes  \n",
       "29        mucositis   61-70     Unhealthy              No  "
      ]
     },
     "execution_count": 25,
     "metadata": {},
     "output_type": "execute_result"
    }
   ],
   "source": [
    "metadata[metadata[\"health_status\"]==\"Unhealthy\"]"
   ]
  },
  {
   "cell_type": "code",
   "execution_count": 26,
   "metadata": {},
   "outputs": [
    {
     "data": {
      "text/html": [
       "<div>\n",
       "<style scoped>\n",
       "    .dataframe tbody tr th:only-of-type {\n",
       "        vertical-align: middle;\n",
       "    }\n",
       "\n",
       "    .dataframe tbody tr th {\n",
       "        vertical-align: top;\n",
       "    }\n",
       "\n",
       "    .dataframe thead th {\n",
       "        text-align: right;\n",
       "    }\n",
       "</style>\n",
       "<table border=\"1\" class=\"dataframe\">\n",
       "  <thead>\n",
       "    <tr style=\"text-align: right;\">\n",
       "      <th>smoking_history</th>\n",
       "      <th>No</th>\n",
       "      <th>Yes</th>\n",
       "    </tr>\n",
       "    <tr>\n",
       "      <th>study_group</th>\n",
       "      <th></th>\n",
       "      <th></th>\n",
       "    </tr>\n",
       "  </thead>\n",
       "  <tbody>\n",
       "    <tr>\n",
       "      <th>healthy</th>\n",
       "      <td>2</td>\n",
       "      <td>3</td>\n",
       "    </tr>\n",
       "    <tr>\n",
       "      <th>mucositis</th>\n",
       "      <td>7</td>\n",
       "      <td>6</td>\n",
       "    </tr>\n",
       "    <tr>\n",
       "      <th>periimplantitis</th>\n",
       "      <td>8</td>\n",
       "      <td>4</td>\n",
       "    </tr>\n",
       "  </tbody>\n",
       "</table>\n",
       "</div>"
      ],
      "text/plain": [
       "smoking_history  No  Yes\n",
       "study_group             \n",
       "healthy           2    3\n",
       "mucositis         7    6\n",
       "periimplantitis   8    4"
      ]
     },
     "execution_count": 26,
     "metadata": {},
     "output_type": "execute_result"
    }
   ],
   "source": [
    "pd.crosstab(metadata['study_group'], metadata['smoking_history'])"
   ]
  }
 ],
 "metadata": {
  "kernelspec": {
   "display_name": "credit_risk_11",
   "language": "python",
   "name": "credit_risk_11"
  },
  "language_info": {
   "codemirror_mode": {
    "name": "ipython",
    "version": 3
   },
   "file_extension": ".py",
   "mimetype": "text/x-python",
   "name": "python",
   "nbconvert_exporter": "python",
   "pygments_lexer": "ipython3",
   "version": "3.11.8"
  },
  "orig_nbformat": 4
 },
 "nbformat": 4,
 "nbformat_minor": 2
}
